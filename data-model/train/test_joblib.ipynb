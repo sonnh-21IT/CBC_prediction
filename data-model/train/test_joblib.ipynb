{
 "cells": [
  {
   "cell_type": "code",
   "execution_count": 2,
   "metadata": {},
   "outputs": [
    {
     "name": "stdout",
     "output_type": "stream",
     "text": [
      "Accuracy: 0.9555555555555556\n",
      "[0 0 2 ... 2 2 0]\n"
     ]
    }
   ],
   "source": [
    "\n",
    "import pandas as pd\n",
    "from sklearn.model_selection import train_test_split\n",
    "from sklearn.preprocessing import MinMaxScaler\n",
    "from sklearn.linear_model import LogisticRegression\n",
    "from sklearn.metrics import accuracy_score\n",
    "\n",
    "import joblib\n",
    "import os\n",
    "\n",
    "# Đọc dữ liệu từ dataframe\n",
    "df = pd.read_csv('../data/CBC_data_anemia_train.csv')\n",
    "\n",
    "# Chia dataframe thành features và target variable\n",
    "X = df.drop('diseased', axis=1)\n",
    "y = df['diseased']\n",
    "\n",
    "# Chuẩn hóa dữ liệu\n",
    "scaler = MinMaxScaler()\n",
    "X_scaled = scaler.fit_transform(X)\n",
    "\n",
    "# Chia dữ liệu thành tập huấn luyện và tập kiểm tra\n",
    "X_train, X_test, y_train, y_test = train_test_split(X_scaled, y, test_size=0.2, random_state=42)\n",
    "\n",
    "# Khởi tạo mô hình Logistic Regression\n",
    "model = LogisticRegression()\n",
    "\n",
    "# Huấn luyện mô hình\n",
    "model.fit(X_train, y_train)\n",
    "output_directory = os.path.join(\"..\",\"models\", \"anemia\")\n",
    "filename = \"model_anemia.sav\"\n",
    "filepath = os.path.join(output_directory, filename)\n",
    "os.makedirs(output_directory, exist_ok=True)\n",
    "joblib.dump(model, filepath)\n",
    "\n",
    "model_load = joblib.load(os.path.join(output_directory, filename))\n",
    "\n",
    "\n",
    "# # Dự đoán trên tập kiểm tra\n",
    "y_pred = model_load.predict(X_test)\n",
    "\n",
    "# Đánh giá mô hình\n",
    "accuracy = accuracy_score(y_test, y_pred)\n",
    "print(\"Accuracy:\", accuracy)\n",
    "print(y_pred)"
   ]
  },
  {
   "cell_type": "markdown",
   "metadata": {},
   "source": [
    "[id[name:\"dđ\",\n",
    "sdt:\"9685496\"]]"
   ]
  }
 ],
 "metadata": {
  "kernelspec": {
   "display_name": "Python 3",
   "language": "python",
   "name": "python3"
  },
  "language_info": {
   "codemirror_mode": {
    "name": "ipython",
    "version": 3
   },
   "file_extension": ".py",
   "mimetype": "text/x-python",
   "name": "python",
   "nbconvert_exporter": "python",
   "pygments_lexer": "ipython3",
   "version": "3.12.1"
  }
 },
 "nbformat": 4,
 "nbformat_minor": 2
}
